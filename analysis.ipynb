{
 "cells": [
  {
   "cell_type": "code",
   "execution_count": 1,
   "metadata": {},
   "outputs": [],
   "source": [
    "import numpy as np\n",
    "import pandas as pd\n",
    "from BrMiner.io import load_mzml"
   ]
  },
  {
   "cell_type": "code",
   "execution_count": 2,
   "metadata": {},
   "outputs": [],
   "source": [
    "ms1, ms2 = load_mzml(\"Br_standards_8Mix.mzML.gz\")"
   ]
  },
  {
   "cell_type": "code",
   "execution_count": 3,
   "metadata": {},
   "outputs": [],
   "source": [
    "MIN_PROB_FOR_MS1 = 0.01\n",
    "MS2_DIFF_THRESHOLD = 0.01\n",
    "N_BRS = list(range(3, 16))\n",
    "MASS_ACC = 5e-6\n",
    "PROB_LIMIT= 0.8"
   ]
  },
  {
   "cell_type": "code",
   "execution_count": 4,
   "metadata": {},
   "outputs": [
    {
     "name": "stderr",
     "output_type": "stream",
     "text": [
      "100%|██████████| 2740/2740 [00:14<00:00, 191.30it/s]\n"
     ]
    }
   ],
   "source": [
    "from BrMiner.algorithm import MSPatternFinder\n",
    "from BrMiner.elements import EDB\n",
    "from BrMiner.utils import TqdmParallel\n",
    "from collections import defaultdict, namedtuple\n",
    "import joblib\n",
    "\n",
    "C_ele = EDB['C']\n",
    "C_diff = C_ele.fuzzy_find(13).mass - C_ele.fuzzy_find(12).mass\n",
    "Entry = namedtuple('Entry',['MS1_IDX', 'RT', 'MZ', 'N_Br', 'Prob', 'MZ_Sel', 'INT_Sel'])\n",
    "finders = [MSPatternFinder(elements={'Br': n_br}, mass_acc=5e-6, top_n=(6 if n_br % 2 == 0 else 5), intensity_lb=1e4) for n_br in N_BRS]\n",
    "#resutls = {}\n",
    "\n",
    "#for ms1_spec in tqdm.tqdm(obj.ms1[['RT', 'MZ', 'INT']].itertuples(), total=obj.ms1.shape[0]):\n",
    "@joblib.delayed\n",
    "def compute(ms1_spec):\n",
    "    global finders, PROB_LIMIT, C_diff\n",
    "    dic = defaultdict(list)\n",
    "    for f in finders:\n",
    "        for pattern in f.match(ms1_spec.MZ, ms1_spec.INT):\n",
    "            if pattern.certainty >= PROB_LIMIT:\n",
    "                dic[pattern.mz].append((f.elements['Br'], pattern))\n",
    "    resutls = []\n",
    "    for k in sorted(dic.keys()):\n",
    "        v = dic[k]\n",
    "        n_br, pattern = max(v, key=lambda x: x[1].certainty)\n",
    "        e = Entry(ms1_spec.Index, ms1_spec.RT, pattern.mz, n_br, pattern.certainty, pattern.mz_sel, pattern.intensity_sel)\n",
    "        iso_min = (1-MASS_ACC)*(e.MZ/(1+MASS_ACC) - C_diff)\n",
    "        iso_max = (1+MASS_ACC)*(e.MZ/(1-MASS_ACC) - C_diff)\n",
    "        for p in resutls:\n",
    "            if iso_min <= p.MZ and p.MZ <= iso_max:\n",
    "                break\n",
    "        else:\n",
    "            resutls.append(e)\n",
    "    return resutls\n",
    "resutls = TqdmParallel(-1, verbose=0)([compute(ms1_spec) for ms1_spec in ms1[['RT', 'MZ', 'INT']].itertuples()])"
   ]
  },
  {
   "cell_type": "code",
   "execution_count": 5,
   "metadata": {},
   "outputs": [],
   "source": [
    "import functools, operator\n",
    "resutls_all = pd.DataFrame(functools.reduce(operator.add, resutls))"
   ]
  },
  {
   "cell_type": "code",
   "execution_count": 6,
   "metadata": {},
   "outputs": [],
   "source": [
    "def simple_ms1(peaks: pd.DataFrame, rt_diff=30, mz_diff=0.01):\n",
    "    \"\"\"Group peaks\"\"\"\n",
    "    from scipy.sparse import lil_matrix\n",
    "    from scipy.sparse.csgraph import connected_components\n",
    "\n",
    "    graph = lil_matrix((peaks.shape[0], peaks.shape[0]))\n",
    "    rt = peaks[\"RT\"]\n",
    "    mz = peaks[\"MZ\"]\n",
    "    for i in range(peaks.shape[0]):\n",
    "        dist = np.logical_and(\n",
    "            np.abs(rt[i] - rt) < rt_diff, np.abs(mz[i] - mz) < mz_diff\n",
    "        )\n",
    "        graph[i, :] = dist\n",
    "    _, labels = connected_components(graph, directed=False)\n",
    "    new_peaks = peaks.assign(Label=labels)\n",
    "    ulables = np.unique(labels)\n",
    "\n",
    "    final_results = []\n",
    "    for lbl in ulables:\n",
    "        sel = lbl == labels\n",
    "        group_peaks = peaks.iloc[sel]\n",
    "\n",
    "        peaks_ints = group_peaks[\"INT_Sel\"].apply(lambda x: x[x.size // 2])\n",
    "        representer = group_peaks.loc[peaks_ints.idxmax()].copy()\n",
    "        representer[\"INT\"] = peaks_ints.max()\n",
    "\n",
    "        representer[\"All_RT\"] = group_peaks[\"RT\"].to_numpy()\n",
    "        representer[\"All_MS1_IDX\"] = group_peaks[\"MS1_IDX\"].to_numpy()\n",
    "        final_results.append(representer)\n",
    "    final_results = pd.DataFrame(final_results)\n",
    "    return final_results, new_peaks\n",
    "final_results, new_peaks = simple_ms1(resutls_all, rt_diff=30)"
   ]
  },
  {
   "cell_type": "code",
   "execution_count": 7,
   "metadata": {},
   "outputs": [
    {
     "name": "stderr",
     "output_type": "stream",
     "text": [
      "  0%|          | 0/28 [00:00<?, ?it/s]"
     ]
    },
    {
     "name": "stderr",
     "output_type": "stream",
     "text": [
      "100%|██████████| 28/28 [00:07<00:00,  3.56it/s]\n"
     ]
    }
   ],
   "source": [
    "from BrMiner.predict import predict_formula\n",
    "from BrMiner.utils import TqdmParallel\n",
    "import joblib\n",
    "\n",
    "@joblib.delayed\n",
    "def f(mass, n_br, charge):\n",
    "    n_Br81 = n_br // 2\n",
    "    n_Br79 = n_br  - n_Br81\n",
    "    min_DoU = 0\n",
    "    formulas = predict_formula(mass,\n",
    "                               mass_acc=5e-6,\n",
    "                               charge=charge,\n",
    "                               lim_C=range(100),\n",
    "                               lim_H=range(200),\n",
    "                               lim_O=range(0, 40),\n",
    "                               lim_DoU=range(min_DoU, 51),\n",
    "                               lim_N=range(4),\n",
    "                               lim_P=[0],\n",
    "                               lim_Br79=[n_Br79],\n",
    "                               lim_Br81=[n_Br81]\n",
    "                               )\n",
    "    return formulas\n",
    "tasks = []\n",
    "for s in final_results[['MZ', 'N_Br']].itertuples():\n",
    "    tasks.append(f(s.MZ, s.N_Br, charge=-1))\n",
    "formula_pos = TqdmParallel(-1)(tasks)"
   ]
  },
  {
   "cell_type": "code",
   "execution_count": 8,
   "metadata": {},
   "outputs": [],
   "source": [
    "def expToStr(flist):\n",
    "    if flist:\n",
    "        return \" | \".join(fm.empirical_formula() for fm in flist)\n",
    "    else:\n",
    "        return \"\"\n",
    "results = final_results.assign(formula = list(map(expToStr, formula_pos)))"
   ]
  },
  {
   "cell_type": "code",
   "execution_count": 9,
   "metadata": {},
   "outputs": [],
   "source": [
    "results[[\"RT\",\"MZ\",\"INT\",\"N_Br\",\"Prob\",'formula']].to_excel('formulas.xlsx')"
   ]
  },
  {
   "cell_type": "code",
   "execution_count": null,
   "metadata": {},
   "outputs": [],
   "source": []
  }
 ],
 "metadata": {
  "kernelspec": {
   "display_name": "sci",
   "language": "python",
   "name": "python3"
  },
  "language_info": {
   "codemirror_mode": {
    "name": "ipython",
    "version": 3
   },
   "file_extension": ".py",
   "mimetype": "text/x-python",
   "name": "python",
   "nbconvert_exporter": "python",
   "pygments_lexer": "ipython3",
   "version": "3.11.8"
  },
  "orig_nbformat": 4,
  "vscode": {
   "interpreter": {
    "hash": "8fa62e91ae97c03b04a7f4ccc69ddcbd48b49670f2cf4e0916e45f862fa2d04d"
   }
  }
 },
 "nbformat": 4,
 "nbformat_minor": 2
}
